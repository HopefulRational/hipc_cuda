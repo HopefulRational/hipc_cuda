{
  "nbformat": 4,
  "nbformat_minor": 0,
  "metadata": {
    "colab": {
      "name": "CUDA-C-intro.ipynb",
      "provenance": []
    },
    "kernelspec": {
      "name": "python3",
      "display_name": "Python 3"
    },
    "accelerator": "GPU"
  },
  "cells": [
    {
      "cell_type": "code",
      "metadata": {
        "id": "oQ5vlM6c5eZt",
        "colab_type": "code",
        "colab": {
          "base_uri": "https://localhost:8080/",
          "height": 86
        },
        "outputId": "8c8ba2a4-e56b-4fd1-fed3-85b5683ef49b"
      },
      "source": [
        "!nvcc --version\n"
      ],
      "execution_count": 2,
      "outputs": [
        {
          "output_type": "stream",
          "text": [
            "nvcc: NVIDIA (R) Cuda compiler driver\n",
            "Copyright (c) 2005-2019 NVIDIA Corporation\n",
            "Built on Sun_Jul_28_19:07:16_PDT_2019\n",
            "Cuda compilation tools, release 10.1, V10.1.243\n"
          ],
          "name": "stdout"
        }
      ]
    },
    {
      "cell_type": "code",
      "metadata": {
        "id": "mM_EI2Ib6s9_",
        "colab_type": "code",
        "colab": {
          "base_uri": "https://localhost:8080/",
          "height": 191
        },
        "outputId": "82789fa9-8f61-4852-d809-bc4bda2662d6"
      },
      "source": [
        "!pip install git+git://github.com/andreinechaev/nvcc4jupyter.git"
      ],
      "execution_count": 5,
      "outputs": [
        {
          "output_type": "stream",
          "text": [
            "Collecting git+git://github.com/andreinechaev/nvcc4jupyter.git\n",
            "  Cloning git://github.com/andreinechaev/nvcc4jupyter.git to /tmp/pip-req-build-v3rb9y9p\n",
            "  Running command git clone -q git://github.com/andreinechaev/nvcc4jupyter.git /tmp/pip-req-build-v3rb9y9p\n",
            "Building wheels for collected packages: NVCCPlugin\n",
            "  Building wheel for NVCCPlugin (setup.py) ... \u001b[?25l\u001b[?25hdone\n",
            "  Created wheel for NVCCPlugin: filename=NVCCPlugin-0.0.2-cp36-none-any.whl size=4307 sha256=6699669c1c4bdf9323f8252b02913e534763f257b0508a742931669c9f073969\n",
            "  Stored in directory: /tmp/pip-ephem-wheel-cache-83ajujmy/wheels/10/c2/05/ca241da37bff77d60d31a9174f988109c61ba989e4d4650516\n",
            "Successfully built NVCCPlugin\n",
            "Installing collected packages: NVCCPlugin\n",
            "Successfully installed NVCCPlugin-0.0.2\n"
          ],
          "name": "stdout"
        }
      ]
    },
    {
      "cell_type": "code",
      "metadata": {
        "id": "nWElbzaI6SwJ",
        "colab_type": "code",
        "colab": {
          "base_uri": "https://localhost:8080/",
          "height": 52
        },
        "outputId": "2eb95d99-9aaa-4fd9-93fd-709117a6d05c"
      },
      "source": [
        "%load_ext nvcc_plugin"
      ],
      "execution_count": 6,
      "outputs": [
        {
          "output_type": "stream",
          "text": [
            "created output directory at /content/src\n",
            "Out bin /content/result.out\n"
          ],
          "name": "stdout"
        }
      ]
    },
    {
      "cell_type": "code",
      "metadata": {
        "id": "s22u4lQJ5hKm",
        "colab_type": "code",
        "colab": {}
      },
      "source": [
        "%%cu\n",
        "#include <stdio.h>\n",
        "#include <stdlib.h>\n",
        "\n",
        "__global__ void add(float *a, float *b, float *c, int n) {\n",
        "    int i = blockDim.x * blockIdx.x + threadIdx.x;\n",
        "    printf(\"~~~%d~~~\\n\", i);\n",
        "    if(i < n)\n",
        "        c[i] = a[i] + b[i];\n",
        "}\n",
        "\n",
        "int main() {\n",
        "int n = 16*16;\n",
        "int dev_count;\n",
        "cudaGetDeviceCount(&dev_count);\n",
        "float *h_a, *h_b, *h_c;\n",
        "float *d_a, *d_b, *d_c;\n",
        "int size = n*sizeof(float);\n",
        "cudaMalloc((void **)&d_a, size);\n",
        "cudaMalloc((void **)&d_b, size);\n",
        "cudaMalloc((void **)&d_c, size);\n",
        "h_a = (float *) malloc(n*sizeof(float));\n",
        "h_b = (float *) malloc(n*sizeof(float));\n",
        "h_c = (float *) malloc(n*sizeof(float));\n",
        "\n",
        "for(int i=0; i<n; i++)\n",
        "{\n",
        "   h_a[i] = i+1;\n",
        "   h_b[i] = i+2;  \n",
        "}\n",
        "\n",
        "dim3 gridDim(n/16,1,1);\n",
        "dim3 blockDim(16,1,1);\n",
        "\n",
        "cudaMemcpy(d_a, h_a, size, cudaMemcpyHostToDevice);\n",
        "  cudaMemcpy(d_b, h_b, size, cudaMemcpyHostToDevice);\n",
        "add<<<gridDim, blockDim>>>(d_a, d_b, d_c, n);\n",
        "cudaError err = cudaMemcpy(h_c, d_c, size, cudaMemcpyDeviceToHost);\n",
        "  if(err!=cudaSuccess) {\n",
        "      printf(\"CUDA error copying to Host: %s\\n\", cudaGetErrorString(err));\n",
        "  }\n",
        "for(int i=0; i < n; i++)\n",
        "{\n",
        "    printf(\"%d value : %f, %f, %f\\n\", i, h_a[i], h_b[i], h_c[i]);\n",
        "}\n",
        "//printf(\"dev_cnt is %d and result is %d\\n\",dev_count, c);\n",
        "cudaFree(d_a);\n",
        "cudaFree(d_b);\n",
        "cudaFree(d_c);\n",
        "return 0;\n",
        "}"
      ],
      "execution_count": null,
      "outputs": []
    },
    {
      "cell_type": "code",
      "metadata": {
        "id": "duReQu0j6PvT",
        "colab_type": "code",
        "colab": {
          "base_uri": "https://localhost:8080/",
          "height": 139
        },
        "outputId": "500abaec-0544-465d-aa69-3b0e89e2abd5"
      },
      "source": [
        "%%cu\n",
        "\n",
        "#include <stdio.h>\n",
        "#include <stdlib.h>\n",
        "\n",
        "int main()\n",
        "{\n",
        "    cudaDeviceProp dev_prop;\n",
        "    int *x = new int(5);\n",
        "    int dev_cnt;\n",
        "    cudaGetDeviceCount(&dev_cnt);\n",
        "    \n",
        "    for(int i=0; i<dev_cnt; i++)\n",
        "    {\n",
        "        printf(\"Device %d :\\n\", i);\n",
        "        cudaGetDeviceProperties(&dev_prop, i);\n",
        "        printf(\"dev_prop.maxThreadsPerBlock : %d\\ndev_prop.multiProcessorCount : %d\\ndev_prop.clockRate : %d\\ndev_prop.maxThreadsDim[0] : %d\\ndev_prop.maxGridSize[0] : %d\\n\",\n",
        "               dev_prop.maxThreadsPerBlock, dev_prop.maxThreadsPerBlock, dev_prop.clockRate, dev_prop.maxThreadsDim[0], dev_prop.maxGridSize[0]);\n",
        "    }\n",
        "    return 0;\n",
        "}"
      ],
      "execution_count": 41,
      "outputs": [
        {
          "output_type": "stream",
          "text": [
            "Device 0 :\n",
            "dev_prop.maxThreadsPerBlock : 1024\n",
            "dev_prop.multiProcessorCount : 1024\n",
            "dev_prop.clockRate : 823500\n",
            "dev_prop.maxThreadsDim[0] : 1024\n",
            "dev_prop.maxGridSize[0] : 2147483647\n",
            "\n"
          ],
          "name": "stdout"
        }
      ]
    },
    {
      "cell_type": "code",
      "metadata": {
        "id": "xmxo905aGatA",
        "colab_type": "code",
        "colab": {
          "base_uri": "https://localhost:8080/",
          "height": 34
        },
        "outputId": "d7e9b5b3-f12e-40a0-82db-6a039987db98"
      },
      "source": [
        "!lshw -c display"
      ],
      "execution_count": 35,
      "outputs": [
        {
          "output_type": "stream",
          "text": [
            "/bin/bash: lshw: command not found\n"
          ],
          "name": "stdout"
        }
      ]
    },
    {
      "cell_type": "code",
      "metadata": {
        "id": "5caUQCIDHVRE",
        "colab_type": "code",
        "colab": {}
      },
      "source": [
        ""
      ],
      "execution_count": null,
      "outputs": []
    }
  ]
}